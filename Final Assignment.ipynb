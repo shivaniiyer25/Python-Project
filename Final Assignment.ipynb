{
 "cells": [
  {
   "cell_type": "markdown",
   "id": "0180dd95-2966-4b6c-be51-a546b3990e0d",
   "metadata": {},
   "source": [
    "<p style=\"text-align:center\">\n",
    "    <a href=\"https://skills.network/?utm_medium=Exinfluencer&utm_source=Exinfluencer&utm_content=000026UJ&utm_term=10006555&utm_id=NA-SkillsNetwork-Channel-SkillsNetworkCoursesIBMDeveloperSkillsNetworkPY0220ENSkillsNetwork900-2022-01-01\" target=\"_blank\">\n",
    "    <img src=\"https://cf-courses-data.s3.us.cloud-object-storage.appdomain.cloud/assets/logos/SN_web_lightmode.png\" width=\"200\" alt=\"Skills Network Logo\">\n",
    "    </a>\n",
    "</p>\n"
   ]
  },
  {
   "cell_type": "markdown",
   "id": "735da23b-23bb-4ae4-9145-ccb07b6d0e37",
   "metadata": {},
   "source": [
    "<h1>Extracting and Visualizing Stock Data</h1>\n",
    "<h2>Description</h2>\n"
   ]
  },
  {
   "cell_type": "markdown",
   "id": "a3a6fc61-79d4-4ff4-945a-2dd5bb2ebc37",
   "metadata": {},
   "source": [
    "Extracting essential data from a dataset and displaying it is a necessary part of data science; therefore individuals can make correct decisions based on the data. In this assignment, you will extract some stock data, you will then display this data in a graph.\n"
   ]
  },
  {
   "cell_type": "markdown",
   "id": "b12caf5a-f240-45f8-944e-30344b21a9ca",
   "metadata": {},
   "source": [
    "<h2>Table of Contents</h2>\n",
    "<div class=\"alert alert-block alert-info\" style=\"margin-top: 20px\">\n",
    "    <ul>\n",
    "        <li>Define a Function that Makes a Graph</li>\n",
    "        <li>Question 1: Use yfinance to Extract Stock Data</li>\n",
    "        <li>Question 2: Use Webscraping to Extract Tesla Revenue Data</li>\n",
    "        <li>Question 3: Use yfinance to Extract Stock Data</li>\n",
    "        <li>Question 4: Use Webscraping to Extract GME Revenue Data</li>\n",
    "        <li>Question 5: Plot Tesla Stock Graph</li>\n",
    "        <li>Question 6: Plot GameStop Stock Graph</li>\n",
    "    </ul>\n",
    "<p>\n",
    "    Estimated Time Needed: <strong>30 min</strong></p>\n",
    "</div>\n",
    "\n",
    "<hr>\n"
   ]
  },
  {
   "cell_type": "markdown",
   "id": "75aecada-53f7-4c6b-afe3-bc210dc4cade",
   "metadata": {},
   "source": [
    "***Note***:- If you are working in IBM Cloud Watson Studio, please replace the command for installing nbformat from `!pip install nbformat==4.2.0` to simply `!pip install nbformat`\n"
   ]
  },
  {
   "cell_type": "code",
   "execution_count": 2,
   "id": "ca70e155-0de8-4e2b-b358-e5baa6cc7def",
   "metadata": {},
   "outputs": [
    {
     "name": "stdout",
     "output_type": "stream",
     "text": [
      "Requirement already satisfied: yfinance==0.1.67 in c:\\users\\shiva\\anaconda3\\lib\\site-packages (0.1.67)\n",
      "Requirement already satisfied: pandas>=0.24 in c:\\users\\shiva\\anaconda3\\lib\\site-packages (from yfinance==0.1.67) (1.4.2)\n",
      "Requirement already satisfied: numpy>=1.15 in c:\\users\\shiva\\anaconda3\\lib\\site-packages (from yfinance==0.1.67) (1.21.5)\n",
      "Requirement already satisfied: requests>=2.20 in c:\\users\\shiva\\anaconda3\\lib\\site-packages (from yfinance==0.1.67) (2.27.1)\n",
      "Requirement already satisfied: multitasking>=0.0.7 in c:\\users\\shiva\\anaconda3\\lib\\site-packages (from yfinance==0.1.67) (0.0.11)\n",
      "Requirement already satisfied: lxml>=4.5.1 in c:\\users\\shiva\\anaconda3\\lib\\site-packages (from yfinance==0.1.67) (5.1.0)\n",
      "Requirement already satisfied: python-dateutil>=2.8.1 in c:\\users\\shiva\\anaconda3\\lib\\site-packages (from pandas>=0.24->yfinance==0.1.67) (2.8.2)\n",
      "Requirement already satisfied: pytz>=2020.1 in c:\\users\\shiva\\anaconda3\\lib\\site-packages (from pandas>=0.24->yfinance==0.1.67) (2024.1)\n",
      "Requirement already satisfied: six>=1.5 in c:\\users\\shiva\\anaconda3\\lib\\site-packages (from python-dateutil>=2.8.1->pandas>=0.24->yfinance==0.1.67) (1.16.0)\n",
      "Requirement already satisfied: certifi>=2017.4.17 in c:\\users\\shiva\\anaconda3\\lib\\site-packages (from requests>=2.20->yfinance==0.1.67) (2021.10.8)\n",
      "Requirement already satisfied: idna<4,>=2.5 in c:\\users\\shiva\\anaconda3\\lib\\site-packages (from requests>=2.20->yfinance==0.1.67) (3.3)\n",
      "Requirement already satisfied: charset-normalizer~=2.0.0 in c:\\users\\shiva\\anaconda3\\lib\\site-packages (from requests>=2.20->yfinance==0.1.67) (2.0.4)\n",
      "Requirement already satisfied: urllib3<1.27,>=1.21.1 in c:\\users\\shiva\\anaconda3\\lib\\site-packages (from requests>=2.20->yfinance==0.1.67) (1.26.9)\n",
      "Requirement already satisfied: nbformat==4.2.0 in c:\\users\\shiva\\anaconda3\\lib\\site-packages (4.2.0)\n",
      "Requirement already satisfied: ipython-genutils in c:\\users\\shiva\\anaconda3\\lib\\site-packages (from nbformat==4.2.0) (0.2.0)\n",
      "Requirement already satisfied: jsonschema!=2.5.0,>=2.4 in c:\\users\\shiva\\anaconda3\\lib\\site-packages (from nbformat==4.2.0) (4.4.0)\n",
      "Requirement already satisfied: jupyter-core in c:\\users\\shiva\\anaconda3\\lib\\site-packages (from nbformat==4.2.0) (4.9.2)\n",
      "Requirement already satisfied: traitlets>=4.1 in c:\\users\\shiva\\anaconda3\\lib\\site-packages (from nbformat==4.2.0) (5.1.1)\n",
      "Requirement already satisfied: attrs>=17.4.0 in c:\\users\\shiva\\anaconda3\\lib\\site-packages (from jsonschema!=2.5.0,>=2.4->nbformat==4.2.0) (21.4.0)\n",
      "Requirement already satisfied: pyrsistent!=0.17.0,!=0.17.1,!=0.17.2,>=0.14.0 in c:\\users\\shiva\\anaconda3\\lib\\site-packages (from jsonschema!=2.5.0,>=2.4->nbformat==4.2.0) (0.18.0)\n",
      "Requirement already satisfied: pywin32>=1.0 in c:\\users\\shiva\\anaconda3\\lib\\site-packages (from jupyter-core->nbformat==4.2.0) (302)\n"
     ]
    }
   ],
   "source": [
    "!pip install yfinance==0.1.67\n",
    "\n",
    "!pip install nbformat==4.2.0"
   ]
  },
  {
   "cell_type": "code",
   "execution_count": 3,
   "id": "0f46de11-c8f9-46f7-9d0d-bd449cb080dd",
   "metadata": {},
   "outputs": [],
   "source": [
    "import yfinance as yf\n",
    "import pandas as pd\n",
    "import requests\n",
    "from bs4 import BeautifulSoup\n",
    "import plotly.graph_objects as go\n",
    "from plotly.subplots import make_subplots"
   ]
  },
  {
   "cell_type": "markdown",
   "id": "91b40b0f-942e-42b1-bcd7-268817e5e8df",
   "metadata": {},
   "source": [
    "In Python, you can ignore warnings using the warnings module. You can use the filterwarnings function to filter or ignore specific warning messages or categories.\n"
   ]
  },
  {
   "cell_type": "code",
   "execution_count": 4,
   "id": "eef5d73e-361e-4791-8458-6a1ed86818fe",
   "metadata": {},
   "outputs": [],
   "source": [
    "import warnings\n",
    "# Ignore all warnings\n",
    "warnings.filterwarnings(\"ignore\", category=FutureWarning)"
   ]
  },
  {
   "cell_type": "markdown",
   "id": "c58cfe8c-3b59-41a0-9e3a-f337e0e405ce",
   "metadata": {},
   "source": [
    "## Define Graphing Function\n"
   ]
  },
  {
   "cell_type": "markdown",
   "id": "1dc6bae8-d0cc-412a-8fc5-5ce7478d8464",
   "metadata": {},
   "source": [
    "In this section, we define the function `make_graph`. You don't have to know how the function works, you should only care about the inputs. It takes a dataframe with stock data (dataframe must contain Date and Close columns), a dataframe with revenue data (dataframe must contain Date and Revenue columns), and the name of the stock.\n"
   ]
  },
  {
   "cell_type": "code",
   "execution_count": 5,
   "id": "e1e2f62c-0f23-4993-927e-fefc31750992",
   "metadata": {},
   "outputs": [],
   "source": [
    "def make_graph(stock_data, revenue_data, stock):\n",
    "    fig = make_subplots(rows=2, cols=1, shared_xaxes=True, subplot_titles=(\"Historical Share Price\", \"Historical Revenue\"), vertical_spacing = .3)\n",
    "    stock_data_specific = stock_data[stock_data.Date <= '2021--06-14']\n",
    "    revenue_data_specific = revenue_data[revenue_data.Date <= '2021-04-30']\n",
    "    fig.add_trace(go.Scatter(x=pd.to_datetime(stock_data_specific.Date, infer_datetime_format=True), y=stock_data_specific.Close.astype(\"float\"), name=\"Share Price\"), row=1, col=1)\n",
    "    fig.add_trace(go.Scatter(x=pd.to_datetime(revenue_data_specific.Date, infer_datetime_format=True), y=revenue_data_specific.Revenue.astype(\"float\"), name=\"Revenue\"), row=2, col=1)\n",
    "    fig.update_xaxes(title_text=\"Date\", row=1, col=1)\n",
    "    fig.update_xaxes(title_text=\"Date\", row=2, col=1)\n",
    "    fig.update_yaxes(title_text=\"Price ($US)\", row=1, col=1)\n",
    "    fig.update_yaxes(title_text=\"Revenue ($US Millions)\", row=2, col=1)\n",
    "    fig.update_layout(showlegend=False,\n",
    "    height=900,\n",
    "    title=stock,\n",
    "    xaxis_rangeslider_visible=True)\n",
    "    fig.show()"
   ]
  },
  {
   "cell_type": "markdown",
   "id": "6671cf89-13b4-428c-a9c0-e032020bcf1b",
   "metadata": {},
   "source": [
    "## Question 1: Use yfinance to Extract Stock Data\n"
   ]
  },
  {
   "cell_type": "markdown",
   "id": "ee9f3dea-a42a-450f-afac-40ecc69c10d2",
   "metadata": {},
   "source": [
    "Using the `Ticker` function enter the ticker symbol of the stock we want to extract data on to create a ticker object. The stock is Tesla and its ticker symbol is `TSLA`.\n"
   ]
  },
  {
   "cell_type": "markdown",
   "id": "75d91b47-dff8-42b8-b19d-0c12d8950e69",
   "metadata": {},
   "source": [
    "Using the ticker object and the function `history` extract stock information and save it in a dataframe named `tesla_data`. Set the `period` parameter to `max` so we get information for the maximum amount of time.\n"
   ]
  },
  {
   "cell_type": "markdown",
   "id": "08b32893-7b6b-4427-8b99-aec7d5906170",
   "metadata": {},
   "source": [
    "**Reset the index** using the `reset_index(inplace=True)` function on the tesla_data DataFrame and display the first five rows of the `tesla_data` dataframe using the `head` function. Take a screenshot of the results and code from the beginning of Question 1 to the results below.\n"
   ]
  },
  {
   "cell_type": "code",
   "execution_count": 25,
   "metadata": {},
   "outputs": [
    {
     "name": "stdout",
     "output_type": "stream",
     "text": [
      "        Date      Open      High       Low     Close     Volume\n",
      "0 2024-03-13  173.0500  176.0500  169.1500  169.4800  104717978\n",
      "1 2024-03-12  177.7700  179.4300  172.4101  177.5400   87009098\n",
      "2 2024-03-11  175.4500  182.8700  174.8000  177.7700   85013157\n",
      "3 2024-03-08  181.5000  182.7300  174.7000  175.3400   85544644\n",
      "4 2024-03-07  174.3500  180.0400  173.7000  178.6500  102129004\n"
     ]
    }
   ],
   "source": [
    "import requests\n",
    "import pandas as pd\n",
    "import yfinance as yf\n",
    "import pandas as pd\n",
    "\n",
    "# Extracting Tesla stock data\n",
    "tesla_ticker = yf.Ticker(\"TSLA\")\n",
    "\n",
    "# Function to fetch historical stock data from Alpha Vantage API\n",
    "def fetch_stock_data(symbol, api_key):\n",
    "    url = f\"https://www.alphavantage.co/query?function=TIME_SERIES_DAILY&symbol={symbol}&apikey={api_key}&outputsize=full\"\n",
    "    response = requests.get(url)\n",
    "    data = response.json()\n",
    "    stock_data = pd.DataFrame(data['Time Series (Daily)']).T\n",
    "    stock_data.reset_index(inplace=True)\n",
    "    stock_data.columns = ['Date', 'Open', 'High', 'Low', 'Close', 'Volume']\n",
    "    return stock_data\n",
    "\n",
    "# Set your Alpha Vantage API key\n",
    "api_key = \"YOUR_ALPHA_VANTAGE_API_KEY\"\n",
    "\n",
    "# Fetch Tesla stock data\n",
    "tesla_data = fetch_stock_data(\"TSLA\", api_key)\n",
    "\n",
    "# Convert Date column to datetime explicitly\n",
    "tesla_data['Date'] = pd.to_datetime(tesla_data['Date'])\n",
    "\n",
    "print(tesla_data.head())\n",
    "\n"
   ]
  },
  {
   "cell_type": "markdown",
   "id": "7c677e89-bc3d-4013-8804-8eb144dacf90",
   "metadata": {},
   "source": [
    "## Question 2: Use Webscraping to Extract Tesla Revenue Data\n"
   ]
  },
  {
   "cell_type": "markdown",
   "id": "0f586f31-b5d3-4d87-873e-dd7039e579a7",
   "metadata": {},
   "source": [
    "Use the `requests` library to download the webpage https://cf-courses-data.s3.us.cloud-object-storage.appdomain.cloud/IBMDeveloperSkillsNetwork-PY0220EN-SkillsNetwork/labs/project/revenue.htm Save the text of the response as a variable named `html_data`.\n"
   ]
  },
  {
   "cell_type": "markdown",
   "id": "d655373e-8b19-484d-9152-ba3b1bf2181c",
   "metadata": {},
   "source": [
    "Parse the html data using `beautiful_soup`.\n"
   ]
  },
  {
   "cell_type": "markdown",
   "id": "6ae5721e-ff47-4625-8021-f0b32ed22300",
   "metadata": {},
   "source": [
    "Using `BeautifulSoup` or the `read_html` function extract the table with `Tesla Revenue` and store it into a dataframe named `tesla_revenue`. The dataframe should have columns `Date` and `Revenue`.\n"
   ]
  },
  {
   "cell_type": "markdown",
   "id": "86d74364-9615-4a74-9281-62696979ea9b",
   "metadata": {},
   "source": [
    "<details><summary>Click here if you need help locating the table</summary>\n",
    "\n",
    "```\n",
    "    \n",
    "Below is the code to isolate the table, you will now need to loop through the rows and columns like in the previous lab\n",
    "    \n",
    "soup.find_all(\"tbody\")[1]\n",
    "    \n",
    "If you want to use the read_html function the table is located at index 1\n",
    "\n",
    "We are focusing on quarterly revenue in the lab.\n",
    "```\n",
    "\n",
    "</details>\n"
   ]
  },
  {
   "cell_type": "markdown",
   "id": "d24568c4-12df-47fe-9380-d7bdf63ebc41",
   "metadata": {},
   "source": [
    "Execute the following line to remove the comma and dollar sign from the `Revenue` column. \n"
   ]
  },
  {
   "cell_type": "markdown",
   "id": "5d7a626d-9ae6-4f3c-bf84-1e5c1e3bff56",
   "metadata": {},
   "source": [
    "Execute the following lines to remove an null or empty strings in the Revenue column.\n"
   ]
  },
  {
   "cell_type": "markdown",
   "id": "07379593-e6e7-403b-8bfe-e715ed0745eb",
   "metadata": {},
   "source": [
    "Display the last 5 row of the `tesla_revenue` dataframe using the `tail` function. Take a screenshot of the results.\n"
   ]
  },
  {
   "cell_type": "code",
   "execution_count": 31,
   "id": "c7c0c09b-99ab-4e41-84b4-14170e5d7b6d",
   "metadata": {},
   "outputs": [
    {
     "name": "stdout",
     "output_type": "stream",
     "text": [
      "Error: 'Revenue' column not found in the DataFrame.\n",
      "   Tesla Annual Revenue(Millions of US $)  \\\n",
      "0                                    2021   \n",
      "1                                    2020   \n",
      "2                                    2019   \n",
      "3                                    2018   \n",
      "4                                    2017   \n",
      "\n",
      "  Tesla Annual Revenue(Millions of US $).1  \n",
      "0                                  $53,823  \n",
      "1                                  $31,536  \n",
      "2                                  $24,578  \n",
      "3                                  $21,461  \n",
      "4                                  $11,759  \n"
     ]
    }
   ],
   "source": [
    "import requests\n",
    "import pandas as pd\n",
    "from bs4 import BeautifulSoup\n",
    "\n",
    "# URL of the webpage\n",
    "url = \"https://cf-courses-data.s3.us.cloud-object-storage.appdomain.cloud/IBMDeveloperSkillsNetwork-PY0220EN-SkillsNetwork/labs/project/revenue.htm\"\n",
    "\n",
    "# Send a GET request to the URL\n",
    "response = requests.get(url)\n",
    "\n",
    "# Parse the HTML content\n",
    "soup = BeautifulSoup(response.text, 'html.parser')\n",
    "\n",
    "# Find the table containing Tesla revenue data\n",
    "table = soup.find(\"table\")\n",
    "\n",
    "# Read the table into a DataFrame\n",
    "tesla_revenue = pd.read_html(str(table))\n",
    "\n",
    "# Check if the table was successfully extracted\n",
    "if not tesla_revenue:\n",
    "    print(\"No tables found on the webpage.\")\n",
    "else:\n",
    "    tesla_revenue = tesla_revenue[0]  # Assuming the first table contains the desired data\n",
    "    try:\n",
    "        # Check if the 'Revenue' column exists\n",
    "        if 'Revenue' in tesla_revenue.columns:\n",
    "            # Clean the 'Revenue' column\n",
    "            tesla_revenue[\"Revenue\"] = tesla_revenue[\"Revenue\"].str.replace(\",|\\$\", \"\")\n",
    "            tesla_revenue.dropna(inplace=True)\n",
    "            tesla_revenue = tesla_revenue[tesla_revenue[\"Revenue\"] != \"\"]\n",
    "        else:\n",
    "            print(\"Error: 'Revenue' column not found in the DataFrame.\")\n",
    "    except KeyError as e:\n",
    "        print(\"Error:\", e)\n",
    "        print(\"DataFrame columns:\", tesla_revenue.columns)\n",
    "\n",
    "print(tesla_revenue.head())\n"
   ]
  },
  {
   "cell_type": "markdown",
   "id": "c876a1d8-20be-4584-9e75-492b64b58190",
   "metadata": {},
   "source": [
    "## Question 3: Use yfinance to Extract Stock Data\n"
   ]
  },
  {
   "cell_type": "markdown",
   "id": "3a2f63d1-81e5-4b1c-8a6e-d9585e1cfbdd",
   "metadata": {},
   "source": [
    "Using the `Ticker` function enter the ticker symbol of the stock we want to extract data on to create a ticker object. The stock is GameStop and its ticker symbol is `GME`.\n"
   ]
  },
  {
   "cell_type": "markdown",
   "id": "fe9d69d9-2f44-425b-9de4-e3d9d698726d",
   "metadata": {},
   "source": [
    "Using the ticker object and the function `history` extract stock information and save it in a dataframe named `gme_data`. Set the `period` parameter to `max` so we get information for the maximum amount of time.\n"
   ]
  },
  {
   "cell_type": "markdown",
   "id": "af2ee388-58f7-4c86-b8ca-ac4321537d74",
   "metadata": {},
   "source": [
    "**Reset the index** using the `reset_index(inplace=True)` function on the gme_data DataFrame and display the first five rows of the `gme_data` dataframe using the `head` function. Take a screenshot of the results and code from the beginning of Question 3 to the results below.\n"
   ]
  },
  {
   "cell_type": "code",
   "execution_count": 34,
   "metadata": {},
   "outputs": [
    {
     "name": "stdout",
     "output_type": "stream",
     "text": [
      "        Date      Open      High       Low     Close    Volume  Dividends  \\\n",
      "0 2002-02-13  1.620128  1.693350  1.603296  1.691666  76216000        0.0   \n",
      "1 2002-02-14  1.712707  1.716074  1.670626  1.683250  11021600        0.0   \n",
      "2 2002-02-15  1.683250  1.687458  1.658001  1.674834   8389600        0.0   \n",
      "3 2002-02-19  1.666418  1.666418  1.578047  1.607504   7410400        0.0   \n",
      "4 2002-02-20  1.615920  1.662210  1.603296  1.662210   6892800        0.0   \n",
      "\n",
      "   Stock Splits  \n",
      "0           0.0  \n",
      "1           0.0  \n",
      "2           0.0  \n",
      "3           0.0  \n",
      "4           0.0  \n"
     ]
    }
   ],
   "source": [
    "# Extracting GameStop stock data\n",
    "gme_ticker = yf.Ticker(\"GME\")\n",
    "gme_data = gme_ticker.history(period=\"max\")\n",
    "gme_data.reset_index(inplace=True)\n",
    "print(gme_data.head())\n"
   ]
  },
  {
   "cell_type": "code",
   "execution_count": null,
   "metadata": {},
   "outputs": [],
   "source": []
  },
  {
   "cell_type": "markdown",
   "id": "a5319525-a1da-4c91-8203-e0a0e04d4fb5",
   "metadata": {},
   "source": [
    "## Question 4: Use Webscraping to Extract GME Revenue Data\n"
   ]
  },
  {
   "cell_type": "markdown",
   "id": "efbcd5d7-cd44-4dc2-a20f-5a79bddf8ea7",
   "metadata": {},
   "source": [
    "Use the `requests` library to download the webpage https://cf-courses-data.s3.us.cloud-object-storage.appdomain.cloud/IBMDeveloperSkillsNetwork-PY0220EN-SkillsNetwork/labs/project/stock.html. Save the text of the response as a variable named `html_data`.\n"
   ]
  },
  {
   "cell_type": "markdown",
   "id": "ecf31ab0-49d8-468b-987e-aa310ae73278",
   "metadata": {},
   "source": [
    "Parse the html data using `beautiful_soup`.\n"
   ]
  },
  {
   "cell_type": "markdown",
   "id": "ec3f8f87-4c45-4859-ae85-b1a33be039a7",
   "metadata": {},
   "source": [
    "Using `BeautifulSoup` or the `read_html` function extract the table with `GameStop Revenue` and store it into a dataframe named `gme_revenue`. The dataframe should have columns `Date` and `Revenue`. Make sure the comma and dollar sign is removed from the `Revenue` column using a method similar to what you did in Question 2.\n"
   ]
  },
  {
   "cell_type": "markdown",
   "id": "d242c4ad-b444-457c-a47a-d14cd55c9e1c",
   "metadata": {},
   "source": [
    "<details><summary>Click here if you need help locating the table</summary>\n",
    "\n",
    "```\n",
    "    \n",
    "Below is the code to isolate the table, you will now need to loop through the rows and columns like in the previous lab\n",
    "    \n",
    "soup.find_all(\"tbody\")[1]\n",
    "    \n",
    "If you want to use the read_html function the table is located at index 1\n",
    "\n",
    "\n",
    "```\n",
    "\n",
    "</details>\n"
   ]
  },
  {
   "cell_type": "markdown",
   "id": "a776b8ea-31e6-4929-89d8-aa45ac80a472",
   "metadata": {},
   "source": [
    "Display the last five rows of the `gme_revenue` dataframe using the `tail` function. Take a screenshot of the results.\n"
   ]
  },
  {
   "cell_type": "code",
   "execution_count": 37,
   "metadata": {},
   "outputs": [
    {
     "name": "stdout",
     "output_type": "stream",
     "text": [
      "Error: 'Revenue' column not found in the DataFrame.\n",
      "    GameStop Annual Revenue(Millions of US $)  \\\n",
      "11                                       2009   \n",
      "12                                       2008   \n",
      "13                                       2007   \n",
      "14                                       2006   \n",
      "15                                       2005   \n",
      "\n",
      "   GameStop Annual Revenue(Millions of US $).1  \n",
      "11                                      $8,806  \n",
      "12                                      $7,094  \n",
      "13                                      $5,319  \n",
      "14                                      $3,092  \n",
      "15                                      $1,843  \n"
     ]
    }
   ],
   "source": [
    "import requests\n",
    "import pandas as pd\n",
    "from bs4 import BeautifulSoup\n",
    "\n",
    "# Downloading the webpage\n",
    "url = \"https://cf-courses-data.s3.us.cloud-object-storage.appdomain.cloud/IBMDeveloperSkillsNetwork-PY0220EN-SkillsNetwork/labs/project/stock.html\"\n",
    "response = requests.get(url)\n",
    "html_data = response.text\n",
    "\n",
    "# Parsing the html data\n",
    "soup = BeautifulSoup(html_data, \"html.parser\")\n",
    "\n",
    "# Extracting table with GameStop Revenue\n",
    "table = soup.find(\"table\")\n",
    "gme_revenue = pd.read_html(str(table))\n",
    "\n",
    "# Check if the table was successfully extracted\n",
    "if not gme_revenue:\n",
    "    print(\"No tables found on the webpage.\")\n",
    "else:\n",
    "    gme_revenue = gme_revenue[0]  # Assuming the first table contains the desired data\n",
    "    try:\n",
    "        # Check if the 'Revenue' column exists\n",
    "        if 'Revenue' in gme_revenue.columns:\n",
    "            # Clean the 'Revenue' column\n",
    "            gme_revenue[\"Revenue\"] = gme_revenue[\"Revenue\"].str.replace(\",|\\$\", \"\")\n",
    "            gme_revenue.dropna(inplace=True)\n",
    "            gme_revenue = gme_revenue[gme_revenue[\"Revenue\"] != \"\"]\n",
    "        else:\n",
    "            print(\"Error: 'Revenue' column not found in the DataFrame.\")\n",
    "    except KeyError as e:\n",
    "        print(\"Error:\", e)\n",
    "        print(\"DataFrame columns:\", gme_revenue.columns)\n",
    "\n",
    "print(gme_revenue.tail())\n"
   ]
  },
  {
   "cell_type": "markdown",
   "id": "50a7a813-09af-41bc-9b86-7771e5a95d99",
   "metadata": {},
   "source": [
    "## Question 5: Plot Tesla Stock Graph\n"
   ]
  },
  {
   "cell_type": "markdown",
   "id": "440d03d4-4554-4a27-95ad-4ba2f4ae3244",
   "metadata": {},
   "source": [
    "Use the `make_graph` function to graph the Tesla Stock Data, also provide a title for the graph. The structure to call the `make_graph` function is `make_graph(tesla_data, tesla_revenue, 'Tesla')`. Note the graph will only show data upto June 2021.\n"
   ]
  },
  {
   "cell_type": "code",
   "execution_count": 43,
   "metadata": {},
   "outputs": [
    {
     "data": {
      "text/html": [
       "        <script type=\"text/javascript\">\n",
       "        window.PlotlyConfig = {MathJaxConfig: 'local'};\n",
       "        if (window.MathJax) {MathJax.Hub.Config({SVG: {font: \"STIX-Web\"}});}\n",
       "        if (typeof require !== 'undefined') {\n",
       "        require.undef(\"plotly\");\n",
       "        requirejs.config({\n",
       "            paths: {\n",
       "                'plotly': ['https://cdn.plot.ly/plotly-2.9.0.min']\n",
       "            }\n",
       "        });\n",
       "        require(['plotly'], function(Plotly) {\n",
       "            window._Plotly = Plotly;\n",
       "        });\n",
       "        }\n",
       "        </script>\n",
       "        "
      ]
     },
     "metadata": {},
     "output_type": "display_data"
    }
   ],
   "source": [
    "\n",
    "from plotly.offline import init_notebook_mode\n",
    "init_notebook_mode(connected=True)\n",
    "import pandas as pd\n",
    "import plotly.graph_objects as go\n",
    "from plotly.subplots import make_subplots\n",
    "\n",
    "def make_graph(stock_data, revenue_data, stock):\n",
    "    fig = make_subplots(rows=2, cols=1, shared_xaxes=True, subplot_titles=(\"Historical Share Price\", \"Historical Revenue\"), vertical_spacing=0.3)\n",
    "    \n",
    "    # Assuming the column containing date information is named 'Date' in the revenue_data DataFrame\n",
    "    stock_data_specific = stock_data[stock_data['Date'] <= '2021-06-14']\n",
    "    \n",
    "    # Update the code to use the correct column name for date information in revenue_data\n",
    "    revenue_data_specific = revenue_data[revenue_data['Date'] <= '2021-04-30']\n",
    "    \n",
    "    fig.add_trace(go.Scatter(x=pd.to_datetime(stock_data_specific['Date'], infer_datetime_format=True), y=stock_data_specific['Close'].astype(float), name=\"Share Price\"), row=1, col=1)\n",
    "    fig.add_trace(go.Scatter(x=pd.to_datetime(revenue_data_specific['Date'], infer_datetime_format=True), y=revenue_data_specific['Revenue'].astype(float), name=\"Revenue\"), row=2, col=1)\n",
    "\n",
    "    fig.update_layout(showlegend=False, title=stock + \" Share Price and Revenue\", xaxis_title=\"Date\", yaxis_title=\"Value\")\n",
    "    fig.show()\n",
    "\n",
    "make_graph(tesla_data, tesla_revenue, 'Tesla')\n"
   ]
  },
  {
   "cell_type": "code",
   "execution_count": null,
   "id": "33f59215-1746-426e-ba11-fe8b0245f829",
   "metadata": {},
   "outputs": [],
   "source": []
  },
  {
   "cell_type": "markdown",
   "id": "8f747932-6c8d-432b-b1ce-f02bd6ea6cb4",
   "metadata": {},
   "source": [
    "## Question 6: Plot GameStop Stock Graph\n"
   ]
  },
  {
   "cell_type": "markdown",
   "id": "5a0d2a1a-f9b7-47c6-91fa-f0e3edd8614b",
   "metadata": {},
   "source": [
    "Use the `make_graph` function to graph the GameStop Stock Data, also provide a title for the graph. The structure to call the `make_graph` function is `make_graph(gme_data, gme_revenue, 'GameStop')`. Note the graph will only show data upto June 2021.\n"
   ]
  },
  {
   "cell_type": "code",
   "execution_count": null,
   "id": "0dc2dedb-3cea-4859-ba3d-c157a9e61ad0",
   "metadata": {},
   "outputs": [],
   "source": [
    "\n",
    "make_graph(gme_data, gme_revenue, 'GameStop')"
   ]
  },
  {
   "cell_type": "code",
   "execution_count": null,
   "metadata": {},
   "outputs": [],
   "source": []
  },
  {
   "cell_type": "markdown",
   "id": "5e991690-36a3-4e2f-9bf2-08a05468c4f1",
   "metadata": {},
   "source": [
    "<h2>About the Authors:</h2> \n",
    "\n",
    "<a href=\"https://www.linkedin.com/in/joseph-s-50398b136/\">Joseph Santarcangelo</a> has a PhD in Electrical Engineering, his research focused on using machine learning, signal processing, and computer vision to determine how videos impact human cognition. Joseph has been working for IBM since he completed his PhD.\n",
    "\n",
    "Azim Hirjani\n"
   ]
  },
  {
   "cell_type": "markdown",
   "id": "57c0423d-f53c-45c2-afcc-5b2f14466917",
   "metadata": {},
   "source": [
    "## Change Log\n",
    "\n",
    "| Date (YYYY-MM-DD) | Version | Changed By    | Change Description        |\n",
    "| ----------------- | ------- | ------------- | ------------------------- |\n",
    "| 2022-02-28        | 1.2     | Lakshmi Holla | Changed the URL of GameStop |\n",
    "| 2020-11-10        | 1.1     | Malika Singla | Deleted the Optional part |\n",
    "| 2020-08-27        | 1.0     | Malika Singla | Added lab to GitLab       |\n",
    "\n",
    "<hr>\n",
    "\n",
    "## <h3 align=\"center\"> © IBM Corporation 2020. All rights reserved. <h3/>\n",
    "\n",
    "<p>\n"
   ]
  }
 ],
 "metadata": {
  "kernelspec": {
   "display_name": "Python 3 (ipykernel)",
   "language": "python",
   "name": "python3"
  },
  "language_info": {
   "codemirror_mode": {
    "name": "ipython",
    "version": 3
   },
   "file_extension": ".py",
   "mimetype": "text/x-python",
   "name": "python",
   "nbconvert_exporter": "python",
   "pygments_lexer": "ipython3",
   "version": "3.9.12"
  }
 },
 "nbformat": 4,
 "nbformat_minor": 4
}
